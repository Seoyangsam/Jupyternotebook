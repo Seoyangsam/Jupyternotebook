{
 "cells": [
  {
   "cell_type": "markdown",
   "metadata": {
    "Collapsed": "false"
   },
   "source": [
    "# DSH-II Use Case Analysis #\n",
    "This notebook can be used as an outline for your use case analysis. All the relevant sections are there. \n",
    "1. Data Loading\n",
    "2. Data Exploration\n",
    "3. Feature Engineering\n",
    "4. Train-Test Splitting\n",
    "5. Model Training\n",
    "6. Model Evaluation\n",
    "\n",
    "The use cases may have missing data or other exploratory transformations that you need to perform. Try to focus on going through the whole workflow. This way you can get a feel of what it is like to work on a data science project. If your model does not perform as expected, don't fret too much about it. Make sure you have performed the steps as you have learned and then discuss the issues of your model in your presentation, where you think about why it could be performing this way and what might be improved.\n",
    "\n",
    "Tips:\n",
    "- When writing your code, add as many fields as you like or need. \n",
    "- Feel free to check in with previous assignments if you don't remember how certain methods worked.\n",
    "- Remember that you will also be graded on your code, so make sure to annotate your steps in a similar way as you have seen in the assignments.\n",
    "***"
   ]
  },
  {
   "cell_type": "markdown",
   "metadata": {
    "Collapsed": "false"
   },
   "source": [
    "## 1. Data Loading ##\n",
    "The data has been processed by us for you, so you cannot find the data as is.\n",
    "\n",
    "Data Source: https://www.kaggle.com/openfoodfacts/world-food-facts\n",
    "\n",
    "There are 9 variables and 1 target (calories). The variables are pretty self explanatory, but a more elaborate description can be found in the data source.\n",
    "\n",
    "- Food\n",
    "- Measure\n",
    "- Grams\n",
    "- Calories\n",
    "- Protein\n",
    "- Fat\n",
    "- Sat.Fat\n",
    "- Fiber\n",
    "- Carbs\n",
    "- Category"
   ]
  },
  {
   "cell_type": "code",
   "execution_count": 1,
   "metadata": {
    "Collapsed": "false"
   },
   "outputs": [],
   "source": [
    "# Put any package/library imports here\n",
    "\n",
    "import pandas as pd\n",
    "import numpy as np\n",
    "import matplotlib.pyplot as plt\n",
    "import seaborn as sns\n",
    "\n",
    "import math\n",
    "\n",
    "from sklearn.model_selection import train_test_split\n",
    "from sklearn.model_selection import cross_val_score\n",
    "\n",
    "from sklearn.neighbors import KNeighborsRegressor\n",
    "from sklearn.neural_network import MLPRegressor\n",
    "from sklearn.ensemble import RandomForestRegressor\n",
    "from sklearn.svm import SVR\n",
    "from sklearn.metrics import mean_squared_error"
   ]
  },
  {
   "cell_type": "code",
   "execution_count": 2,
   "metadata": {
    "Collapsed": "false"
   },
   "outputs": [],
   "source": [
    "# Load the data here\n",
    "file = 'macronutrients.csv'\n",
    "\n",
    "# Store the data into a pandas dataframe\n",
    "with open(file, 'r') as f:\n",
    "    df = pd.read_csv(f)"
   ]
  },
  {
   "cell_type": "code",
   "execution_count": 3,
   "metadata": {
    "Collapsed": "false"
   },
   "outputs": [
    {
     "data": {
      "text/html": [
       "<div>\n",
       "<style scoped>\n",
       "    .dataframe tbody tr th:only-of-type {\n",
       "        vertical-align: middle;\n",
       "    }\n",
       "\n",
       "    .dataframe tbody tr th {\n",
       "        vertical-align: top;\n",
       "    }\n",
       "\n",
       "    .dataframe thead th {\n",
       "        text-align: right;\n",
       "    }\n",
       "</style>\n",
       "<table border=\"1\" class=\"dataframe\">\n",
       "  <thead>\n",
       "    <tr style=\"text-align: right;\">\n",
       "      <th></th>\n",
       "      <th>Food</th>\n",
       "      <th>Measure</th>\n",
       "      <th>Grams</th>\n",
       "      <th>Calories</th>\n",
       "      <th>Protein</th>\n",
       "      <th>Fat</th>\n",
       "      <th>Sat.Fat</th>\n",
       "      <th>Fiber</th>\n",
       "      <th>Carbs</th>\n",
       "      <th>Category</th>\n",
       "    </tr>\n",
       "  </thead>\n",
       "  <tbody>\n",
       "    <tr>\n",
       "      <th>0</th>\n",
       "      <td>Cows' milk</td>\n",
       "      <td>1 qt.</td>\n",
       "      <td>976</td>\n",
       "      <td>660.0</td>\n",
       "      <td>32</td>\n",
       "      <td>40</td>\n",
       "      <td>36.0</td>\n",
       "      <td>0.0</td>\n",
       "      <td>48.0</td>\n",
       "      <td>Dairy products</td>\n",
       "    </tr>\n",
       "    <tr>\n",
       "      <th>1</th>\n",
       "      <td>Milk skim</td>\n",
       "      <td>1 qt.</td>\n",
       "      <td>984</td>\n",
       "      <td>360.0</td>\n",
       "      <td>36</td>\n",
       "      <td>0</td>\n",
       "      <td>0.0</td>\n",
       "      <td>0.0</td>\n",
       "      <td>52.0</td>\n",
       "      <td>Dairy products</td>\n",
       "    </tr>\n",
       "    <tr>\n",
       "      <th>2</th>\n",
       "      <td>Buttermilk</td>\n",
       "      <td>1 cup</td>\n",
       "      <td>246</td>\n",
       "      <td>127.0</td>\n",
       "      <td>9</td>\n",
       "      <td>5</td>\n",
       "      <td>4.0</td>\n",
       "      <td>0.0</td>\n",
       "      <td>13.0</td>\n",
       "      <td>Dairy products</td>\n",
       "    </tr>\n",
       "    <tr>\n",
       "      <th>3</th>\n",
       "      <td>Evaporated undiluted</td>\n",
       "      <td>1 cup</td>\n",
       "      <td>252</td>\n",
       "      <td>345.0</td>\n",
       "      <td>16</td>\n",
       "      <td>20</td>\n",
       "      <td>18.0</td>\n",
       "      <td>0.0</td>\n",
       "      <td>24.0</td>\n",
       "      <td>Dairy products</td>\n",
       "    </tr>\n",
       "    <tr>\n",
       "      <th>4</th>\n",
       "      <td>Fortified milk</td>\n",
       "      <td>6 cups</td>\n",
       "      <td>1419</td>\n",
       "      <td>1373.0</td>\n",
       "      <td>89</td>\n",
       "      <td>42</td>\n",
       "      <td>23.0</td>\n",
       "      <td>1.4</td>\n",
       "      <td>119.0</td>\n",
       "      <td>Dairy products</td>\n",
       "    </tr>\n",
       "  </tbody>\n",
       "</table>\n",
       "</div>"
      ],
      "text/plain": [
       "                   Food Measure  Grams  Calories  Protein  Fat  Sat.Fat  \\\n",
       "0            Cows' milk   1 qt.    976     660.0       32   40     36.0   \n",
       "1             Milk skim   1 qt.    984     360.0       36    0      0.0   \n",
       "2            Buttermilk   1 cup    246     127.0        9    5      4.0   \n",
       "3  Evaporated undiluted   1 cup    252     345.0       16   20     18.0   \n",
       "4        Fortified milk  6 cups   1419    1373.0       89   42     23.0   \n",
       "\n",
       "   Fiber  Carbs        Category  \n",
       "0    0.0   48.0  Dairy products  \n",
       "1    0.0   52.0  Dairy products  \n",
       "2    0.0   13.0  Dairy products  \n",
       "3    0.0   24.0  Dairy products  \n",
       "4    1.4  119.0  Dairy products  "
      ]
     },
     "execution_count": 3,
     "metadata": {},
     "output_type": "execute_result"
    }
   ],
   "source": [
    "# Lets take a look at some points our dataset\n",
    "df.head(5)\n"
   ]
  },
  {
   "cell_type": "markdown",
   "metadata": {},
   "source": [
    "From this head of the dataset it can be seen that there are a lot of different numbers of grams in which a food product is displayed. This is because the serving size of the food products differs. Because of these differences, it can not be told what the relative values are of calories and the macronutrients for each products. Therefore, feature engineering should be performed to make sure that every datapoint is using an universal amount of grams. A 100 gram standard could be used, since this is commonly used when describing food items. \n",
    "\n",
    "This should be fixed before performing the other steps, otherwise the visualisation of the data will not make much sense. \n"
   ]
  },
  {
   "cell_type": "markdown",
   "metadata": {},
   "source": [
    "# Some preliminary feature engeneering"
   ]
  },
  {
   "cell_type": "code",
   "execution_count": 4,
   "metadata": {},
   "outputs": [
    {
     "name": "stdout",
     "output_type": "stream",
     "text": [
      "         Food Measure  Grams  Calories  Protein  Fat  Sat.Fat  Fiber  Carbs  \\\n",
      "0  Cows' milk   1 qt.    976     660.0       32   40     36.0    0.0   48.0   \n",
      "\n",
      "         Category  \n",
      "0  Dairy products  \n"
     ]
    }
   ],
   "source": [
    "# We want to set all the datapoints to a 100 gram scale.\n",
    "# We create a new column containing the ratios.\n",
    "\n",
    "new_df1 = df.copy()\n",
    "\n",
    "print(new_df1.head(1))\n",
    "\n",
    "new_df1['Ratios'] = 100 / df['Grams']\n",
    "\n",
    "new_df1['Grams'] = df['Grams'] * new_df1['Ratios']\n",
    "new_df1['Calories'] = df['Calories'] * new_df1['Ratios']\n",
    "new_df1['Protein'] = df['Protein'] * new_df1['Ratios']\n",
    "new_df1['Fat'] = df['Fat'] * new_df1['Ratios']\n",
    "new_df1['Sat.Fat'] = df['Sat.Fat'] * new_df1['Ratios']\n",
    "new_df1['Fiber'] = df['Fiber'] * new_df1['Ratios']\n",
    "new_df1['Carbs'] = df['Carbs'] * new_df1['Ratios']\n",
    "\n",
    "new_df1.head(1)\n",
    "new_df1 = new_df1.round(decimals = 5)\n",
    "\n",
    "df = new_df1\n"
   ]
  },
  {
   "cell_type": "markdown",
   "metadata": {
    "Collapsed": "false"
   },
   "source": [
    "## 2. Data Exploration ##"
   ]
  },
  {
   "cell_type": "markdown",
   "metadata": {
    "Collapsed": "false"
   },
   "source": [
    "### 2.1 Variable Identification ###"
   ]
  },
  {
   "cell_type": "code",
   "execution_count": 5,
   "metadata": {
    "Collapsed": "false"
   },
   "outputs": [
    {
     "data": {
      "text/plain": [
       "Food         object\n",
       "Measure      object\n",
       "Grams       float64\n",
       "Calories    float64\n",
       "Protein     float64\n",
       "Fat         float64\n",
       "Sat.Fat     float64\n",
       "Fiber       float64\n",
       "Carbs       float64\n",
       "Category     object\n",
       "Ratios      float64\n",
       "dtype: object"
      ]
     },
     "execution_count": 5,
     "metadata": {},
     "output_type": "execute_result"
    }
   ],
   "source": [
    "# Taking a look at type of our different features.\n",
    "df.dtypes\n"
   ]
  },
  {
   "cell_type": "markdown",
   "metadata": {},
   "source": [
    "All the macronutrients are floats. The category, food and measure columns contain objects. The category column, which contains the different food types, should be looked more into if this variable would be used in the predictions. When the attribute consists of objects, the regression model can not use them. Therefore, the attribute should be changed to numerical values. "
   ]
  },
  {
   "cell_type": "markdown",
   "metadata": {
    "Collapsed": "false"
   },
   "source": [
    "### 2.2 Univariate Analysis ###"
   ]
  },
  {
   "cell_type": "code",
   "execution_count": 6,
   "metadata": {},
   "outputs": [
    {
     "data": {
      "text/html": [
       "<div>\n",
       "<style scoped>\n",
       "    .dataframe tbody tr th:only-of-type {\n",
       "        vertical-align: middle;\n",
       "    }\n",
       "\n",
       "    .dataframe tbody tr th {\n",
       "        vertical-align: top;\n",
       "    }\n",
       "\n",
       "    .dataframe thead th {\n",
       "        text-align: right;\n",
       "    }\n",
       "</style>\n",
       "<table border=\"1\" class=\"dataframe\">\n",
       "  <thead>\n",
       "    <tr style=\"text-align: right;\">\n",
       "      <th></th>\n",
       "      <th>Grams</th>\n",
       "      <th>Calories</th>\n",
       "      <th>Protein</th>\n",
       "      <th>Fat</th>\n",
       "      <th>Sat.Fat</th>\n",
       "      <th>Fiber</th>\n",
       "      <th>Carbs</th>\n",
       "      <th>Ratios</th>\n",
       "    </tr>\n",
       "  </thead>\n",
       "  <tbody>\n",
       "    <tr>\n",
       "      <th>count</th>\n",
       "      <td>335.0</td>\n",
       "      <td>334.000000</td>\n",
       "      <td>335.000000</td>\n",
       "      <td>335.000000</td>\n",
       "      <td>333.000000</td>\n",
       "      <td>334.000000</td>\n",
       "      <td>335.000000</td>\n",
       "      <td>335.000000</td>\n",
       "    </tr>\n",
       "    <tr>\n",
       "      <th>mean</th>\n",
       "      <td>100.0</td>\n",
       "      <td>203.764775</td>\n",
       "      <td>7.912350</td>\n",
       "      <td>11.008312</td>\n",
       "      <td>7.399538</td>\n",
       "      <td>1.699178</td>\n",
       "      <td>22.149890</td>\n",
       "      <td>1.445234</td>\n",
       "    </tr>\n",
       "    <tr>\n",
       "      <th>std</th>\n",
       "      <td>0.0</td>\n",
       "      <td>190.519894</td>\n",
       "      <td>12.620144</td>\n",
       "      <td>21.197611</td>\n",
       "      <td>15.930566</td>\n",
       "      <td>10.038926</td>\n",
       "      <td>26.729858</td>\n",
       "      <td>1.568533</td>\n",
       "    </tr>\n",
       "    <tr>\n",
       "      <th>min</th>\n",
       "      <td>100.0</td>\n",
       "      <td>0.000000</td>\n",
       "      <td>-1.666670</td>\n",
       "      <td>0.000000</td>\n",
       "      <td>0.000000</td>\n",
       "      <td>0.000000</td>\n",
       "      <td>0.000000</td>\n",
       "      <td>0.070470</td>\n",
       "    </tr>\n",
       "    <tr>\n",
       "      <th>25%</th>\n",
       "      <td>100.0</td>\n",
       "      <td>51.306505</td>\n",
       "      <td>0.587225</td>\n",
       "      <td>0.000000</td>\n",
       "      <td>0.000000</td>\n",
       "      <td>0.000000</td>\n",
       "      <td>3.540100</td>\n",
       "      <td>0.500000</td>\n",
       "    </tr>\n",
       "    <tr>\n",
       "      <th>50%</th>\n",
       "      <td>100.0</td>\n",
       "      <td>140.454545</td>\n",
       "      <td>3.174600</td>\n",
       "      <td>1.176470</td>\n",
       "      <td>0.000000</td>\n",
       "      <td>0.200000</td>\n",
       "      <td>11.157020</td>\n",
       "      <td>0.925930</td>\n",
       "    </tr>\n",
       "    <tr>\n",
       "      <th>75%</th>\n",
       "      <td>100.0</td>\n",
       "      <td>304.471457</td>\n",
       "      <td>10.619680</td>\n",
       "      <td>11.066435</td>\n",
       "      <td>7.894740</td>\n",
       "      <td>0.857140</td>\n",
       "      <td>30.000000</td>\n",
       "      <td>1.666670</td>\n",
       "    </tr>\n",
       "    <tr>\n",
       "      <th>max</th>\n",
       "      <td>100.0</td>\n",
       "      <td>901.818180</td>\n",
       "      <td>101.785710</td>\n",
       "      <td>102.678570</td>\n",
       "      <td>103.571430</td>\n",
       "      <td>104.464290</td>\n",
       "      <td>128.000000</td>\n",
       "      <td>9.090910</td>\n",
       "    </tr>\n",
       "  </tbody>\n",
       "</table>\n",
       "</div>"
      ],
      "text/plain": [
       "       Grams    Calories     Protein         Fat     Sat.Fat       Fiber  \\\n",
       "count  335.0  334.000000  335.000000  335.000000  333.000000  334.000000   \n",
       "mean   100.0  203.764775    7.912350   11.008312    7.399538    1.699178   \n",
       "std      0.0  190.519894   12.620144   21.197611   15.930566   10.038926   \n",
       "min    100.0    0.000000   -1.666670    0.000000    0.000000    0.000000   \n",
       "25%    100.0   51.306505    0.587225    0.000000    0.000000    0.000000   \n",
       "50%    100.0  140.454545    3.174600    1.176470    0.000000    0.200000   \n",
       "75%    100.0  304.471457   10.619680   11.066435    7.894740    0.857140   \n",
       "max    100.0  901.818180  101.785710  102.678570  103.571430  104.464290   \n",
       "\n",
       "            Carbs      Ratios  \n",
       "count  335.000000  335.000000  \n",
       "mean    22.149890    1.445234  \n",
       "std     26.729858    1.568533  \n",
       "min      0.000000    0.070470  \n",
       "25%      3.540100    0.500000  \n",
       "50%     11.157020    0.925930  \n",
       "75%     30.000000    1.666670  \n",
       "max    128.000000    9.090910  "
      ]
     },
     "execution_count": 6,
     "metadata": {},
     "output_type": "execute_result"
    }
   ],
   "source": [
    "# Taking a look at some descriptive statistics of our dataset.\n",
    "\n",
    "df.describe()"
   ]
  },
  {
   "cell_type": "markdown",
   "metadata": {},
   "source": [
    "There are 335 datapoints in the set.\n",
    "One datapoint has a missing value for the calories column.\n",
    "There are also missing values for sat.fat and fiber.\n",
    "These missing values are dealt with later on. \n"
   ]
  },
  {
   "cell_type": "code",
   "execution_count": 7,
   "metadata": {
    "Collapsed": "false",
    "scrolled": true
   },
   "outputs": [
    {
     "data": {
      "image/png": "[encoded data removed]",
      "text/plain": [
       "<Figure size 720x720 with 4 Axes>"
      ]
     },
     "metadata": {},
     "output_type": "display_data"
    }
   ],
   "source": [
    "# Let's take a look at how some of the macronutriënts in our dataset are distributed.\n",
    "sns.set(style=\"darkgrid\")\n",
    "\n",
    "fig, axs = plt.subplots(2, 2, figsize=(10, 10))\n",
    "\n",
    "sns.histplot(data=df, x=\"Protein\", kde=True, color=\"skyblue\", ax=axs[0, 0])\n",
    "sns.histplot(data=df, x=\"Fat\", kde=True, color=\"olive\", ax=axs[0, 1])\n",
    "sns.histplot(data=df, x=\"Fiber\", kde=True, color=\"gold\", ax=axs[1, 0])\n",
    "sns.histplot(data=df, x=\"Calories\", kde=True, color=\"teal\", ax=axs[1, 1])\n",
    "\n",
    "plt.show()"
   ]
  },
  {
   "cell_type": "markdown",
   "metadata": {},
   "source": [
    "\n",
    "\n",
    "It can be seen that there are probably 1 or 2 outliers in the dataset. These outliers are kept into consideration for later on. "
   ]
  },
  {
   "cell_type": "code",
   "execution_count": 8,
   "metadata": {
    "scrolled": false
   },
   "outputs": [
    {
     "data": {
      "image/png": "[encoded data removed]",
      "text/plain": [
       "<Figure size 432x288 with 1 Axes>"
      ]
     },
     "metadata": {},
     "output_type": "display_data"
    }
   ],
   "source": [
    "# Taking a look at how the datapoints are distributed in a boxplot of calories by grams.\n",
    "sns.boxplot(data=df, x = \"Grams\", y = \"Calories\")\n",
    "plt.show()"
   ]
  },
  {
   "cell_type": "markdown",
   "metadata": {},
   "source": [
    "The boxplot shows a few outliers when it comes to calories per gram of product. This is to be expected, it could for example be a product like Olive Oil which has a high caloric value. However, since the aim of the model is to predict all food labels we should take these \"Outliers\" into consideration, and still use them for model training later on. Food products such as Olive Oil should also be predicted in the model for a real-world application. "
   ]
  },
  {
   "cell_type": "markdown",
   "metadata": {
    "Collapsed": "false"
   },
   "source": [
    "### 2.3 Bi-variate Analysis ###"
   ]
  },
  {
   "cell_type": "code",
   "execution_count": 9,
   "metadata": {
    "Collapsed": "false"
   },
   "outputs": [
    {
     "data": {
      "image/png": "[encoded data removed]",
      "text/plain": [
       "<Figure size 864x648 with 2 Axes>"
      ]
     },
     "metadata": {},
     "output_type": "display_data"
    },
    {
     "data": {
      "text/plain": [
       "<AxesSubplot:>"
      ]
     },
     "execution_count": 9,
     "metadata": {},
     "output_type": "execute_result"
    },
    {
     "data": {
      "image/png": "[encoded data removed]",
      "text/plain": [
       "<Figure size 432x288 with 2 Axes>"
      ]
     },
     "metadata": {},
     "output_type": "display_data"
    }
   ],
   "source": [
    "# define all the variables that are continuous, for later selection\n",
    "columns = ['Calories','Protein','Fat','Sat.Fat', 'Fiber', 'Carbs']\n",
    "\n",
    "# Plotting a heatmap\n",
    "corrmat = df[columns].corr()\n",
    "f, ax = plt.subplots(figsize=(12, 9))\n",
    "sns.heatmap(corrmat, vmax=.8, square=True, fmt='.2f', annot=True, cmap = \"YlGnBu\");\n",
    "plt.show()\n",
    "mask = np.zeros_like(corrmat)\n",
    "mask[np.triu_indices_from(mask)] = True\n",
    "\n",
    "# Highlighting a part of the heatmap\n",
    "sns.heatmap(corrmat, mask=mask, square=True, annot=True, cmap = \"YlGnBu\")"
   ]
  },
  {
   "cell_type": "markdown",
   "metadata": {},
   "source": [
    "Some things that can be read from the graph are:\n",
    "- Fat is the best predictor of calories, which was expected follwoing the domain knowledge. \n",
    "- Fiber is a really poor predictor, which is also not very surprising. Because fiber does not contribute much to the calorie amount. However it could be of impact when we are looking for Net metabolizable Energy. So we will use it.\n",
    "- It can also be seen that Saturated fat is an excellent predictor of amount of fat, which is also not a surprise since saturated fat is part of the total fat content."
   ]
  },
  {
   "cell_type": "markdown",
   "metadata": {
    "Collapsed": "false"
   },
   "source": [
    "### 2.4 Missing values treatment ###"
   ]
  },
  {
   "cell_type": "code",
   "execution_count": 10,
   "metadata": {
    "Collapsed": "false"
   },
   "outputs": [
    {
     "data": {
      "text/html": [
       "<div>\n",
       "<style scoped>\n",
       "    .dataframe tbody tr th:only-of-type {\n",
       "        vertical-align: middle;\n",
       "    }\n",
       "\n",
       "    .dataframe tbody tr th {\n",
       "        vertical-align: top;\n",
       "    }\n",
       "\n",
       "    .dataframe thead th {\n",
       "        text-align: right;\n",
       "    }\n",
       "</style>\n",
       "<table border=\"1\" class=\"dataframe\">\n",
       "  <thead>\n",
       "    <tr style=\"text-align: right;\">\n",
       "      <th></th>\n",
       "      <th>Food</th>\n",
       "      <th>Measure</th>\n",
       "      <th>Grams</th>\n",
       "      <th>Calories</th>\n",
       "      <th>Protein</th>\n",
       "      <th>Fat</th>\n",
       "      <th>Sat.Fat</th>\n",
       "      <th>Fiber</th>\n",
       "      <th>Carbs</th>\n",
       "      <th>Category</th>\n",
       "      <th>Ratios</th>\n",
       "    </tr>\n",
       "  </thead>\n",
       "  <tbody>\n",
       "    <tr>\n",
       "      <th>42</th>\n",
       "      <td>Salt pork</td>\n",
       "      <td>2 oz.</td>\n",
       "      <td>100.0</td>\n",
       "      <td>783.33333</td>\n",
       "      <td>5.00000</td>\n",
       "      <td>91.66667</td>\n",
       "      <td>NaN</td>\n",
       "      <td>0.0</td>\n",
       "      <td>0.00000</td>\n",
       "      <td>Meat Poultry</td>\n",
       "      <td>1.66667</td>\n",
       "    </tr>\n",
       "    <tr>\n",
       "      <th>100</th>\n",
       "      <td>Beetroots</td>\n",
       "      <td>1 cup</td>\n",
       "      <td>100.0</td>\n",
       "      <td>0.60606</td>\n",
       "      <td>7.27273</td>\n",
       "      <td>0.00000</td>\n",
       "      <td>NaN</td>\n",
       "      <td>0.0</td>\n",
       "      <td>0.48485</td>\n",
       "      <td>Vegetables A-E</td>\n",
       "      <td>0.60606</td>\n",
       "    </tr>\n",
       "    <tr>\n",
       "      <th>134</th>\n",
       "      <td>Frozen peas</td>\n",
       "      <td>1 cup</td>\n",
       "      <td>100.0</td>\n",
       "      <td>NaN</td>\n",
       "      <td>5.00000</td>\n",
       "      <td>0.00000</td>\n",
       "      <td>0.0</td>\n",
       "      <td>1.8</td>\n",
       "      <td>12.00000</td>\n",
       "      <td>Vegetables R-Z</td>\n",
       "      <td>1.00000</td>\n",
       "    </tr>\n",
       "  </tbody>\n",
       "</table>\n",
       "</div>"
      ],
      "text/plain": [
       "            Food Measure  Grams   Calories  Protein       Fat  Sat.Fat  Fiber  \\\n",
       "42     Salt pork   2 oz.  100.0  783.33333  5.00000  91.66667      NaN    0.0   \n",
       "100    Beetroots   1 cup  100.0    0.60606  7.27273   0.00000      NaN    0.0   \n",
       "134  Frozen peas   1 cup  100.0        NaN  5.00000   0.00000      0.0    1.8   \n",
       "\n",
       "        Carbs        Category   Ratios  \n",
       "42    0.00000    Meat Poultry  1.66667  \n",
       "100   0.48485  Vegetables A-E  0.60606  \n",
       "134  12.00000  Vegetables R-Z  1.00000  "
      ]
     },
     "metadata": {},
     "output_type": "display_data"
    },
    {
     "data": {
      "text/html": [
       "<div>\n",
       "<style scoped>\n",
       "    .dataframe tbody tr th:only-of-type {\n",
       "        vertical-align: middle;\n",
       "    }\n",
       "\n",
       "    .dataframe tbody tr th {\n",
       "        vertical-align: top;\n",
       "    }\n",
       "\n",
       "    .dataframe thead th {\n",
       "        text-align: right;\n",
       "    }\n",
       "</style>\n",
       "<table border=\"1\" class=\"dataframe\">\n",
       "  <thead>\n",
       "    <tr style=\"text-align: right;\">\n",
       "      <th></th>\n",
       "      <th>Food</th>\n",
       "      <th>Measure</th>\n",
       "      <th>Grams</th>\n",
       "      <th>Calories</th>\n",
       "      <th>Protein</th>\n",
       "      <th>Fat</th>\n",
       "      <th>Sat.Fat</th>\n",
       "      <th>Fiber</th>\n",
       "      <th>Carbs</th>\n",
       "      <th>Category</th>\n",
       "      <th>Ratios</th>\n",
       "    </tr>\n",
       "  </thead>\n",
       "  <tbody>\n",
       "    <tr>\n",
       "      <th>134</th>\n",
       "      <td>Frozen peas</td>\n",
       "      <td>1 cup</td>\n",
       "      <td>100.0</td>\n",
       "      <td>NaN</td>\n",
       "      <td>5.0</td>\n",
       "      <td>0.0</td>\n",
       "      <td>0.0</td>\n",
       "      <td>1.8</td>\n",
       "      <td>12.0</td>\n",
       "      <td>Vegetables R-Z</td>\n",
       "      <td>1.0</td>\n",
       "    </tr>\n",
       "  </tbody>\n",
       "</table>\n",
       "</div>"
      ],
      "text/plain": [
       "            Food Measure  Grams  Calories  Protein  Fat  Sat.Fat  Fiber  \\\n",
       "134  Frozen peas   1 cup  100.0       NaN      5.0  0.0      0.0    1.8   \n",
       "\n",
       "     Carbs        Category  Ratios  \n",
       "134   12.0  Vegetables R-Z     1.0  "
      ]
     },
     "metadata": {},
     "output_type": "display_data"
    },
    {
     "data": {
      "text/html": [
       "<div>\n",
       "<style scoped>\n",
       "    .dataframe tbody tr th:only-of-type {\n",
       "        vertical-align: middle;\n",
       "    }\n",
       "\n",
       "    .dataframe tbody tr th {\n",
       "        vertical-align: top;\n",
       "    }\n",
       "\n",
       "    .dataframe thead th {\n",
       "        text-align: right;\n",
       "    }\n",
       "</style>\n",
       "<table border=\"1\" class=\"dataframe\">\n",
       "  <thead>\n",
       "    <tr style=\"text-align: right;\">\n",
       "      <th></th>\n",
       "      <th>Food</th>\n",
       "      <th>Measure</th>\n",
       "      <th>Grams</th>\n",
       "      <th>Calories</th>\n",
       "      <th>Protein</th>\n",
       "      <th>Fat</th>\n",
       "      <th>Sat.Fat</th>\n",
       "      <th>Fiber</th>\n",
       "      <th>Carbs</th>\n",
       "      <th>Category</th>\n",
       "      <th>Ratios</th>\n",
       "    </tr>\n",
       "  </thead>\n",
       "  <tbody>\n",
       "    <tr>\n",
       "      <th>134</th>\n",
       "      <td>Frozen peas</td>\n",
       "      <td>1 cup</td>\n",
       "      <td>100.0</td>\n",
       "      <td>NaN</td>\n",
       "      <td>5.0</td>\n",
       "      <td>0.0</td>\n",
       "      <td>0.0</td>\n",
       "      <td>1.8</td>\n",
       "      <td>12.0</td>\n",
       "      <td>Vegetables R-Z</td>\n",
       "      <td>1.0</td>\n",
       "    </tr>\n",
       "  </tbody>\n",
       "</table>\n",
       "</div>"
      ],
      "text/plain": [
       "            Food Measure  Grams  Calories  Protein  Fat  Sat.Fat  Fiber  \\\n",
       "134  Frozen peas   1 cup  100.0       NaN      5.0  0.0      0.0    1.8   \n",
       "\n",
       "     Carbs        Category  Ratios  \n",
       "134   12.0  Vegetables R-Z     1.0  "
      ]
     },
     "metadata": {},
     "output_type": "display_data"
    }
   ],
   "source": [
    "# We should drop the row that has a missing value for fiber and sat.fat, since we do not know the contents of this product.\n",
    "df.drop(df[df['Fiber'].isnull()].index, inplace=True)\n",
    "display(df[df.isnull().any(axis=1)])\n",
    "\n",
    "df.drop(df[df['Sat.Fat'].isnull()].index, inplace=True)\n",
    "display(df[df.isnull().any(axis=1)])\n",
    "\n",
    "# We should also drop the row with missing values for calories, since it cannot be use for predictions.\n",
    "display(df[df.isnull().any(axis=1)])\n",
    "df.drop(df[df['Calories'].isnull()].index, inplace=True)"
   ]
  },
  {
   "cell_type": "markdown",
   "metadata": {
    "Collapsed": "false"
   },
   "source": [
    "### 2.5 Outlier treatment ###"
   ]
  },
  {
   "cell_type": "markdown",
   "metadata": {},
   "source": [
    "Since the aim is to create a model that is able to predict the NME values for all products,  all datapoints should be taken into consideration. Therefore outlier treatment is not performed, since outliers cannot be pinpointed in the dataset."
   ]
  },
  {
   "cell_type": "markdown",
   "metadata": {
    "Collapsed": "false"
   },
   "source": [
    "## 3. Feature Engineering ##"
   ]
  },
  {
   "cell_type": "code",
   "execution_count": 11,
   "metadata": {
    "Collapsed": "false"
   },
   "outputs": [],
   "source": [
    "# We create dummy variables for the different categories of food products.\n",
    "\n",
    "dummy_df = pd.get_dummies(df[\"Category\"], prefix='Category_', drop_first=False)\n",
    "\n",
    "# Merge the original dataframe with the encoded variables\n",
    "df = pd.concat([df, dummy_df], axis=1)\n",
    "\n",
    "# Drop the original columns which we won't use\n",
    "df.drop(columns=['Category'], inplace=True)\n",
    "\n",
    "df.drop(columns=['Measure'], inplace=True)\n",
    "\n",
    "df.drop(columns=['Food'], inplace=True)"
   ]
  },
  {
   "cell_type": "code",
   "execution_count": 12,
   "metadata": {
    "scrolled": true
   },
   "outputs": [],
   "source": [
    "# Making new the new fruits and vegatables category columns.\n",
    "# We want to store them in one category, instead of them being split up in seperate pieces based on the alphabet.\n",
    "\n",
    "new_df = df\n",
    "\n",
    "new_df[\"Category__Fruits\"]= (new_df[\"Category__Fruits A-F\"] + new_df[\"Category__Fruits G-P\"] + \n",
    "                             new_df[\"Category__Fruits R-Z\"])\n",
    "\n",
    "new_df[\"Category__Vegetables\"]= (new_df[\"Category__Vegetables A-E\"] + \n",
    "                                 new_df[\"Category__Vegetables F-P\"] + new_df[\"Category__Vegetables R-Z\"])"
   ]
  },
  {
   "cell_type": "code",
   "execution_count": 13,
   "metadata": {},
   "outputs": [
    {
     "data": {
      "text/html": [
       "<div>\n",
       "<style scoped>\n",
       "    .dataframe tbody tr th:only-of-type {\n",
       "        vertical-align: middle;\n",
       "    }\n",
       "\n",
       "    .dataframe tbody tr th {\n",
       "        vertical-align: top;\n",
       "    }\n",
       "\n",
       "    .dataframe thead th {\n",
       "        text-align: right;\n",
       "    }\n",
       "</style>\n",
       "<table border=\"1\" class=\"dataframe\">\n",
       "  <thead>\n",
       "    <tr style=\"text-align: right;\">\n",
       "      <th></th>\n",
       "      <th>Grams</th>\n",
       "      <th>Calories</th>\n",
       "      <th>Protein</th>\n",
       "      <th>Fat</th>\n",
       "      <th>Sat.Fat</th>\n",
       "      <th>Fiber</th>\n",
       "      <th>Carbs</th>\n",
       "      <th>Ratios</th>\n",
       "      <th>Category__Breads cereals fastfoodgrains</th>\n",
       "      <th>Category__Dairy products</th>\n",
       "      <th>Category__Desserts sweets</th>\n",
       "      <th>Category__DrinksAlcohol Beverages</th>\n",
       "      <th>Category__Fats Oils Shortenings</th>\n",
       "      <th>Category__Fish Seafood</th>\n",
       "      <th>Category__Jams Jellies</th>\n",
       "      <th>Category__Meat Poultry</th>\n",
       "      <th>Category__Seeds and Nuts</th>\n",
       "      <th>Category__Soups</th>\n",
       "      <th>Category__Fruits</th>\n",
       "      <th>Category__Vegetables</th>\n",
       "    </tr>\n",
       "  </thead>\n",
       "  <tbody>\n",
       "    <tr>\n",
       "      <th>0</th>\n",
       "      <td>100.0</td>\n",
       "      <td>67.62295</td>\n",
       "      <td>3.27869</td>\n",
       "      <td>4.09836</td>\n",
       "      <td>3.68852</td>\n",
       "      <td>0.00000</td>\n",
       "      <td>4.91803</td>\n",
       "      <td>0.10246</td>\n",
       "      <td>0</td>\n",
       "      <td>1</td>\n",
       "      <td>0</td>\n",
       "      <td>0</td>\n",
       "      <td>0</td>\n",
       "      <td>0</td>\n",
       "      <td>0</td>\n",
       "      <td>0</td>\n",
       "      <td>0</td>\n",
       "      <td>0</td>\n",
       "      <td>0</td>\n",
       "      <td>0</td>\n",
       "    </tr>\n",
       "    <tr>\n",
       "      <th>1</th>\n",
       "      <td>100.0</td>\n",
       "      <td>36.58537</td>\n",
       "      <td>3.65854</td>\n",
       "      <td>0.00000</td>\n",
       "      <td>0.00000</td>\n",
       "      <td>0.00000</td>\n",
       "      <td>5.28455</td>\n",
       "      <td>0.10163</td>\n",
       "      <td>0</td>\n",
       "      <td>1</td>\n",
       "      <td>0</td>\n",
       "      <td>0</td>\n",
       "      <td>0</td>\n",
       "      <td>0</td>\n",
       "      <td>0</td>\n",
       "      <td>0</td>\n",
       "      <td>0</td>\n",
       "      <td>0</td>\n",
       "      <td>0</td>\n",
       "      <td>0</td>\n",
       "    </tr>\n",
       "    <tr>\n",
       "      <th>2</th>\n",
       "      <td>100.0</td>\n",
       "      <td>51.62602</td>\n",
       "      <td>3.65854</td>\n",
       "      <td>2.03252</td>\n",
       "      <td>1.62602</td>\n",
       "      <td>0.00000</td>\n",
       "      <td>5.28455</td>\n",
       "      <td>0.40650</td>\n",
       "      <td>0</td>\n",
       "      <td>1</td>\n",
       "      <td>0</td>\n",
       "      <td>0</td>\n",
       "      <td>0</td>\n",
       "      <td>0</td>\n",
       "      <td>0</td>\n",
       "      <td>0</td>\n",
       "      <td>0</td>\n",
       "      <td>0</td>\n",
       "      <td>0</td>\n",
       "      <td>0</td>\n",
       "    </tr>\n",
       "    <tr>\n",
       "      <th>3</th>\n",
       "      <td>100.0</td>\n",
       "      <td>136.90476</td>\n",
       "      <td>6.34921</td>\n",
       "      <td>7.93651</td>\n",
       "      <td>7.14286</td>\n",
       "      <td>0.00000</td>\n",
       "      <td>9.52381</td>\n",
       "      <td>0.39683</td>\n",
       "      <td>0</td>\n",
       "      <td>1</td>\n",
       "      <td>0</td>\n",
       "      <td>0</td>\n",
       "      <td>0</td>\n",
       "      <td>0</td>\n",
       "      <td>0</td>\n",
       "      <td>0</td>\n",
       "      <td>0</td>\n",
       "      <td>0</td>\n",
       "      <td>0</td>\n",
       "      <td>0</td>\n",
       "    </tr>\n",
       "    <tr>\n",
       "      <th>4</th>\n",
       "      <td>100.0</td>\n",
       "      <td>96.75828</td>\n",
       "      <td>6.27202</td>\n",
       "      <td>2.95983</td>\n",
       "      <td>1.62086</td>\n",
       "      <td>0.09866</td>\n",
       "      <td>8.38619</td>\n",
       "      <td>0.07047</td>\n",
       "      <td>0</td>\n",
       "      <td>1</td>\n",
       "      <td>0</td>\n",
       "      <td>0</td>\n",
       "      <td>0</td>\n",
       "      <td>0</td>\n",
       "      <td>0</td>\n",
       "      <td>0</td>\n",
       "      <td>0</td>\n",
       "      <td>0</td>\n",
       "      <td>0</td>\n",
       "      <td>0</td>\n",
       "    </tr>\n",
       "  </tbody>\n",
       "</table>\n",
       "</div>"
      ],
      "text/plain": [
       "   Grams   Calories  Protein      Fat  Sat.Fat    Fiber    Carbs   Ratios  \\\n",
       "0  100.0   67.62295  3.27869  4.09836  3.68852  0.00000  4.91803  0.10246   \n",
       "1  100.0   36.58537  3.65854  0.00000  0.00000  0.00000  5.28455  0.10163   \n",
       "2  100.0   51.62602  3.65854  2.03252  1.62602  0.00000  5.28455  0.40650   \n",
       "3  100.0  136.90476  6.34921  7.93651  7.14286  0.00000  9.52381  0.39683   \n",
       "4  100.0   96.75828  6.27202  2.95983  1.62086  0.09866  8.38619  0.07047   \n",
       "\n",
       "   Category__Breads cereals fastfoodgrains  Category__Dairy products  \\\n",
       "0                                        0                         1   \n",
       "1                                        0                         1   \n",
       "2                                        0                         1   \n",
       "3                                        0                         1   \n",
       "4                                        0                         1   \n",
       "\n",
       "   Category__Desserts sweets  Category__DrinksAlcohol Beverages  \\\n",
       "0                          0                                  0   \n",
       "1                          0                                  0   \n",
       "2                          0                                  0   \n",
       "3                          0                                  0   \n",
       "4                          0                                  0   \n",
       "\n",
       "   Category__Fats Oils Shortenings  Category__Fish Seafood  \\\n",
       "0                                0                       0   \n",
       "1                                0                       0   \n",
       "2                                0                       0   \n",
       "3                                0                       0   \n",
       "4                                0                       0   \n",
       "\n",
       "   Category__Jams Jellies  Category__Meat Poultry  Category__Seeds and Nuts  \\\n",
       "0                       0                       0                         0   \n",
       "1                       0                       0                         0   \n",
       "2                       0                       0                         0   \n",
       "3                       0                       0                         0   \n",
       "4                       0                       0                         0   \n",
       "\n",
       "   Category__Soups  Category__Fruits  Category__Vegetables  \n",
       "0                0                 0                     0  \n",
       "1                0                 0                     0  \n",
       "2                0                 0                     0  \n",
       "3                0                 0                     0  \n",
       "4                0                 0                     0  "
      ]
     },
     "metadata": {},
     "output_type": "display_data"
    }
   ],
   "source": [
    "# Adding our new fruit and vegetable columns\n",
    "df[\"Category__Fruits\"] = new_df[\"Category__Fruits\"]\n",
    "df[\"Category__Vegetables\"] = new_df[\"Category__Vegetables\"]\n",
    "\n",
    "#Also dropping the old fruit category columns\n",
    "df.drop(columns=['Category__Fruits A-F','Category__Fruits G-P','Category__Fruits R-Z',\"Category__Vegetables A-E\",\"Category__Vegetables F-P\",\"Category__Vegetables R-Z\"], inplace=True)\n",
    "\n",
    "display(df.head(5))"
   ]
  },
  {
   "cell_type": "markdown",
   "metadata": {},
   "source": [
    "Some more feature engeneering that could be done is for example creating a new feature containing the ratio of saturated fat vs unsaturated fat. When creating such a ratio, the attribution of saturated and unsaturated fat to the caloric value can be determined. "
   ]
  },
  {
   "cell_type": "markdown",
   "metadata": {
    "Collapsed": "false"
   },
   "source": [
    "## 4. Train-Test Splitting ##"
   ]
  },
  {
   "cell_type": "code",
   "execution_count": 14,
   "metadata": {
    "Collapsed": "false"
   },
   "outputs": [],
   "source": [
    "# Split the data\n",
    "split_ratio = 0.2 # Split ratio of 0.2 since our dataset is relatively smalle we want to use a substantial amount for training.\n",
    "y = df['Calories'] # define the target variable (dependent variable) as y\n",
    "X = df.drop(columns=['Calories','Ratios']) # Define the features as X\n",
    "\n",
    "# Defining the variables, using a random state to ensure that our model scores will be consistent.\n",
    "X_train, X_test, y_train, y_test = train_test_split(X, y, test_size=split_ratio, random_state = 42)"
   ]
  },
  {
   "cell_type": "markdown",
   "metadata": {
    "Collapsed": "false"
   },
   "source": [
    "## 5. Model Training and evaluation ##\n"
   ]
  },
  {
   "cell_type": "code",
   "execution_count": 15,
   "metadata": {},
   "outputs": [
    {
     "name": "stdout",
     "output_type": "stream",
     "text": [
      "\n",
      "This is the result of Random tree forest\n",
      "RMSE of the train set: 19.74\n",
      "RMSE of the test set: 44.86\n",
      "Training score: 0.99\n",
      "Test score: 0.94\n"
     ]
    },
    {
     "data": {
      "image/png": "[encoded data removed]",
      "text/plain": [
       "<Figure size 432x288 with 1 Axes>"
      ]
     },
     "metadata": {},
     "output_type": "display_data"
    },
    {
     "name": "stdout",
     "output_type": "stream",
     "text": [
      "\n",
      "This is the result of Knn\n",
      "RMSE of the train set: 44.86\n",
      "RMSE of the test set: 44.36\n",
      "Training score: 0.94\n",
      "Test score: 0.94\n"
     ]
    },
    {
     "data": {
      "image/png": "[encoded data removed]",
      "text/plain": [
       "<Figure size 432x288 with 1 Axes>"
      ]
     },
     "metadata": {},
     "output_type": "display_data"
    },
    {
     "name": "stdout",
     "output_type": "stream",
     "text": [
      "\n",
      "This is the result of SVM\n",
      "RMSE of the train set: 56.09\n",
      "RMSE of the test set: 38.78\n",
      "Training score: 0.91\n",
      "Test score: 0.96\n"
     ]
    },
    {
     "data": {
      "image/png": "[encoded data removed]",
      "text/plain": [
       "<Figure size 432x288 with 1 Axes>"
      ]
     },
     "metadata": {},
     "output_type": "display_data"
    }
   ],
   "source": [
    "### Making predictions using train-test-split\n",
    "\n",
    "# Defining different supervised learning algoryritms.\n",
    "# They all ensable a learning method for regression\n",
    "\n",
    "tree = RandomForestRegressor(n_estimators=100,max_depth = 8)\n",
    "knn = KNeighborsRegressor(n_neighbors= 6)\n",
    "svm = SVR(kernel='linear')\n",
    "\n",
    "\n",
    "# Using a for loop to fit, make predictions, score and plot different models.\n",
    "for model in [tree, knn,svm]:\n",
    "    prediction = []\n",
    "    model.fit(X_train,y_train)\n",
    "    prediction_train = model.predict(X_train)\n",
    "    prediction_test = model.predict(X_test)\n",
    "    model.prediction = prediction_test\n",
    "    \n",
    "    if model == tree:\n",
    "        prediction_tree = prediction_test\n",
    "        print(\"\\nThis is the result of Random tree forest\")        \n",
    "    elif model == knn:\n",
    "        prediction_knn = prediction_test\n",
    "        print(\"\\nThis is the result of Knn\")\n",
    "    elif model == svm:\n",
    "        prediction_svm = prediction_test\n",
    "        print(\"\\nThis is the result of SVM\")\n",
    "    \n",
    "# Printing the different scores\n",
    "    print(\"RMSE of the train set: {:.2f}\".format(math.sqrt(mean_squared_error(y_train,prediction_train))))\n",
    "    print(\"RMSE of the test set: {:.2f}\".format(math.sqrt(mean_squared_error(y_test,prediction_test))))\n",
    "    print(\"Training score: {:.2f}\".format(model.score(X_train, y_train)))\n",
    "    print(\"Test score: {:.2f}\".format(model.score(X_test, y_test)))\n",
    "    \n",
    "#making predictions\n",
    "    y_pred = model.predict(X_test)\n",
    "\n",
    "# We create the x data to be able to plot a line using only y data\n",
    "    x_data = [i for i in range(len(y_test))]\n",
    "\n",
    "# Define a color palette to use\n",
    "    palette = plt.get_cmap('Set1')\n",
    "\n",
    "# For each dataset make a line\n",
    "    plt.plot(x_data, y_test, marker='', color=palette(1), linewidth=1, alpha=0.9, label=\"Y_test\")\n",
    "    plt.plot(x_data, y_pred, marker='', color=palette(4), linewidth=1, alpha=0.9, label=\"Y_pred\")\n",
    "\n",
    "# show a legend\n",
    "    plt.legend()\n",
    "\n",
    "# show the graphs\n",
    "    plt.show()"
   ]
  },
  {
   "cell_type": "markdown",
   "metadata": {},
   "source": [
    "It can be told that the random forest is overfitting to the training set since the score for the training set is higher than the score of the test set. Also, the RMSE is lower for the training set meaning that there is smaller mean squared error. This overfitting could be improved by trying different parameters.\n",
    "\n",
    "The KNN shows the most promising predictions, with a high model score and a low RMSE.\n",
    "\n",
    "SVM also shows good predictions, but it shows lesser results on the RMSE. Therefore KNN is probably a better fit."
   ]
  },
  {
   "cell_type": "code",
   "execution_count": 16,
   "metadata": {},
   "outputs": [
    {
     "data": {
      "text/plain": [
       "Grams                                      100.0\n",
       "Protein                                      0.0\n",
       "Fat                                          0.0\n",
       "Sat.Fat                                      0.0\n",
       "Fiber                                        0.0\n",
       "Carbs                                        0.0\n",
       "Category__Breads cereals fastfoodgrains      0.0\n",
       "Category__Dairy products                     0.0\n",
       "Category__Desserts sweets                    0.0\n",
       "Category__DrinksAlcohol Beverages            1.0\n",
       "Category__Fats Oils Shortenings              0.0\n",
       "Category__Fish Seafood                       0.0\n",
       "Category__Jams Jellies                       0.0\n",
       "Category__Meat Poultry                       0.0\n",
       "Category__Seeds and Nuts                     0.0\n",
       "Category__Soups                              0.0\n",
       "Category__Fruits                             0.0\n",
       "Category__Vegetables                         0.0\n",
       "Name: 324, dtype: float64"
      ]
     },
     "execution_count": 16,
     "metadata": {},
     "output_type": "execute_result"
    }
   ],
   "source": [
    "# We can see that all models predict point 29 wrong, lets try and find out why that is\n",
    "X_test.iloc[29]"
   ]
  },
  {
   "cell_type": "markdown",
   "metadata": {},
   "source": [
    "Datapoint 29 has all 0 values for the different macronutrients.\n",
    "It is probably gin, which only contains alcohol. Alcohol is weirdly enough not one of the macronutrients in the dataset.\n",
    "This causes the model to not be able to make predictions.\n",
    "\n",
    "It can be seen that the model is rarely underpredicting when it is wrong. Just overpredicting.\n",
    "This might be because Alcohol macronutrient is missing in the dataset, but it does count up to the total caloric value.\n",
    "\n",
    "This could be dealed with in the outlier treatment by adding a column containing the alcohol content of product. But since there are only three alcohol containing products in the current dataset, it is not neccesary for now. It should be done in further research. "
   ]
  },
  {
   "cell_type": "markdown",
   "metadata": {},
   "source": [
    "# Using cross validationt to score the model"
   ]
  },
  {
   "cell_type": "markdown",
   "metadata": {},
   "source": [
    "Instead of train-test splitting we could also apply cross validaton. This can be usefull since our dataset is quite small."
   ]
  },
  {
   "cell_type": "code",
   "execution_count": 17,
   "metadata": {},
   "outputs": [
    {
     "name": "stdout",
     "output_type": "stream",
     "text": [
      "\n",
      "This is the result of Random forest\n",
      "Score: 0.78\n",
      "Standard deviation between models: 0.18\n",
      "\n",
      "This is the result of KNN\n",
      "Score: 0.85\n",
      "Standard deviation between models: 0.09\n",
      "\n",
      "This is the result of SVM\n",
      "Score: 0.75\n",
      "Standard deviation between models: 0.33\n"
     ]
    }
   ],
   "source": [
    "## Predictions using Cross validation\n",
    "\n",
    "tree = RandomForestRegressor(n_estimators=200,max_depth = 7, )\n",
    "knn = KNeighborsRegressor(n_neighbors= 3)\n",
    "svm = SVR(kernel='linear')\n",
    "\n",
    "\n",
    "for model in [tree, knn,svm]:\n",
    "    prediction = []\n",
    "    model.fit(X,y)\n",
    "    prediction = model.predict(X)\n",
    "\n",
    "    \n",
    "    if model == tree:\n",
    "        prediction_tree = prediction\n",
    "        print(\"\\nThis is the result of Random forest\")        \n",
    "    elif model == knn:\n",
    "        prediction_knn = prediction\n",
    "        print(\"\\nThis is the result of KNN\")\n",
    "    elif model == svm:\n",
    "        prediction_svm = prediction\n",
    "        print(\"\\nThis is the result of SVM\")\n",
    "# Showing the model scores and standard deviation using cross validation\n",
    "    print(\"Score: {:.2f}\".format(np.mean(cross_val_score(model, X, y, cv=10, scoring='r2'))))\n",
    "\n",
    "    print(\"Standard deviation between models: {:.2f}\".format(np.std(cross_val_score(model, X, y, cv=10, scoring='r2'))))"
   ]
  },
  {
   "cell_type": "markdown",
   "metadata": {
    "Collapsed": "false"
   },
   "source": [
    "Using cross-validation clearly takes more computing time, which is an interesting discussion point for further applications of this method to other, larger datasets.\n",
    "\n",
    "It can seen that the KNN algorithm again provides the best model fit, and a low standard deviation between models.\n",
    "\n",
    "The random forest has a large standard deviation between models and a lesser score, so is worse for the purpose of the model.\n",
    "\n",
    "The SVM shows a lot of deviation between models, which makes you question the real-world application of the model, probably more data is needed for it to make better predictions."
   ]
  },
  {
   "cell_type": "markdown",
   "metadata": {},
   "source": [
    "# This is the end of the code, we hope you enjoyed it"
   ]
  }
 ],
 "metadata": {
  "kernelspec": {
   "display_name": "hnh_env_Python",
   "language": "python",
   "name": "hnh_env_python"
  },
  "language_info": {
   "codemirror_mode": {
    "name": "ipython",
    "version": 3
   },
   "file_extension": ".py",
   "mimetype": "text/x-python",
   "name": "python",
   "nbconvert_exporter": "python",
   "pygments_lexer": "ipython3",
   "version": "3.9.4"
  }
 },
 "nbformat": 4,
 "nbformat_minor": 4
}
